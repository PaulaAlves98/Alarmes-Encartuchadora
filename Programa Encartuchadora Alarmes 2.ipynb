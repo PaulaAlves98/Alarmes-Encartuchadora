{
 "cells": [
  {
   "cell_type": "code",
   "execution_count": 15,
   "id": "a9173ba6",
   "metadata": {
    "scrolled": true
   },
   "outputs": [
    {
     "name": "stdout",
     "output_type": "stream",
     "text": [
      "AL087- Falha Consecutiva, Bula não Retirada                   5768\n",
      "AL090- Falha Consecutiva, Falta Bula na Esteira               4290\n",
      "AL118- Produto não Inserido Completamente                     1590\n",
      "AL042- Sobrecarga na Inserção                                  868\n",
      "AL371- Porta Traseira Aberta - Guk                             740\n",
      "AL358- Porta Direita Aberta - Esteira de Cartucho              647\n",
      "AL365- Porta Dianteira Esquerda Aberta - Transferência         614\n",
      "AL370- Porta Direita Aberta - Guk                              584\n",
      "AL084- Bula Emperrada no Dobrador                              468\n",
      "AL040- Sobrecarga no Dobrador da Aba Lateral                   310\n",
      "AL356- Porta Direita Aberta - Corrente de Produto              309\n",
      "AL085- Bula não Expulsa                                        149\n",
      "AL096- Falta de Cartucho                                       141\n",
      "AL364- Porta Dianteira Direita Aberta - Transferência de       134\n",
      "AL045- Volante Puxado                                           95\n",
      "AL025- Proteção da Extração de Cartuchos                        91\n",
      "AL366- Porta Traseira Direita Aberta - Transferência de         82\n",
      "AL011- Baixa Pressão de Ar                                      75\n",
      "AL059- Falha no Leitor de Código de Barras Bula Superior        73\n",
      "AL060- Falha no Leitor de Código de Barras Bula Inferior        72\n",
      "AL013- Drivers não estão Prontos                                66\n",
      "AL152- Falha na Detecção de Blisters                            65\n",
      "AL018- Falha na Rede de Alimentação                             64\n",
      "AL098- Falha Consecutiva, Cartucho não Retirado                 64\n",
      "AL021- Falha no Relé de Segurança - CR30 Módulo 3               64\n",
      "AL020- Falha no Relé de Segurança - CR30 Módulo 2               64\n",
      "AL128- Dispositivo de Cola não está Pronto                      64\n",
      "AL360- Proteção Inserção Aberta                                 64\n",
      "AL019- Falha no Relé de Segurança - CR30 Módulo 1               64\n",
      "AL041- Sobrecarga nos Circuitos de Comando                      63\n",
      "AL086- Falta de Bula                                            53\n",
      "AL355- Porta Traseira Esquerda Aberta - Esteira de              31\n",
      "AL354- Porta Traseira Direita Aberta - Esteira de Cartucho      29\n",
      "AL353- Porta Esquerda Aberta - Corrente de Cartucho             28\n",
      "AL357- Corrente de produto porta traseira aberta                20\n",
      "AL097- Falha na Extração de Cartucho, Retirá-lo                 17\n",
      "AL359- Porta Aberta - Armação de Cartucho                       14\n",
      "AL142- Acúmulo de Produto na Esteira de Saída                   14\n",
      "AL089- Falha Consecutiva, Falta bula no Cartucho                 2\n",
      "AL061- Falha no Leitor de Código de Barras Cartucho              2\n",
      "AL206- Falha no Módulo do Eixo - Eixo 02                         1\n",
      "AL224 - Falha no Eixo 03                                         1\n",
      "AL238 - Falha no Módulo do Eixo - Eixo 03                        1\n",
      "AL192- Falha no Eixo 02                                          1\n",
      "Name: Descrição, dtype: int64\n"
     ]
    },
    {
     "data": {
      "text/html": [
       "<div>\n",
       "<style scoped>\n",
       "    .dataframe tbody tr th:only-of-type {\n",
       "        vertical-align: middle;\n",
       "    }\n",
       "\n",
       "    .dataframe tbody tr th {\n",
       "        vertical-align: top;\n",
       "    }\n",
       "\n",
       "    .dataframe thead th {\n",
       "        text-align: right;\n",
       "    }\n",
       "</style>\n",
       "<table border=\"1\" class=\"dataframe\">\n",
       "  <thead>\n",
       "    <tr style=\"text-align: right;\">\n",
       "      <th></th>\n",
       "      <th>Erros</th>\n",
       "      <th>Valores</th>\n",
       "      <th>Porcentagem</th>\n",
       "      <th>CumPorcentual</th>\n",
       "    </tr>\n",
       "  </thead>\n",
       "  <tbody>\n",
       "    <tr>\n",
       "      <th>0</th>\n",
       "      <td>AL087- Falha Consecutiva, Bula não Retirada</td>\n",
       "      <td>5768</td>\n",
       "      <td>32.122967</td>\n",
       "      <td>32.122967</td>\n",
       "    </tr>\n",
       "    <tr>\n",
       "      <th>1</th>\n",
       "      <td>AL090- Falha Consecutiva, Falta Bula na Esteira</td>\n",
       "      <td>4290</td>\n",
       "      <td>23.891735</td>\n",
       "      <td>56.014703</td>\n",
       "    </tr>\n",
       "    <tr>\n",
       "      <th>2</th>\n",
       "      <td>AL118- Produto não Inserido Completamente</td>\n",
       "      <td>1590</td>\n",
       "      <td>8.854979</td>\n",
       "      <td>64.869681</td>\n",
       "    </tr>\n",
       "    <tr>\n",
       "      <th>3</th>\n",
       "      <td>AL042- Sobrecarga na Inserção</td>\n",
       "      <td>868</td>\n",
       "      <td>4.834039</td>\n",
       "      <td>69.703720</td>\n",
       "    </tr>\n",
       "    <tr>\n",
       "      <th>4</th>\n",
       "      <td>AL371- Porta Traseira Aberta - Guk</td>\n",
       "      <td>740</td>\n",
       "      <td>4.121185</td>\n",
       "      <td>73.824905</td>\n",
       "    </tr>\n",
       "    <tr>\n",
       "      <th>5</th>\n",
       "      <td>AL358- Porta Direita Aberta - Esteira de Cartucho</td>\n",
       "      <td>647</td>\n",
       "      <td>3.603252</td>\n",
       "      <td>77.428158</td>\n",
       "    </tr>\n",
       "    <tr>\n",
       "      <th>6</th>\n",
       "      <td>AL365- Porta Dianteira Esquerda Aberta - Trans...</td>\n",
       "      <td>614</td>\n",
       "      <td>3.419470</td>\n",
       "      <td>80.847628</td>\n",
       "    </tr>\n",
       "    <tr>\n",
       "      <th>7</th>\n",
       "      <td>AL370- Porta Direita Aberta - Guk</td>\n",
       "      <td>584</td>\n",
       "      <td>3.252395</td>\n",
       "      <td>84.100022</td>\n",
       "    </tr>\n",
       "    <tr>\n",
       "      <th>8</th>\n",
       "      <td>AL084- Bula Emperrada no Dobrador</td>\n",
       "      <td>468</td>\n",
       "      <td>2.606371</td>\n",
       "      <td>86.706393</td>\n",
       "    </tr>\n",
       "    <tr>\n",
       "      <th>9</th>\n",
       "      <td>AL040- Sobrecarga no Dobrador da Aba Lateral</td>\n",
       "      <td>310</td>\n",
       "      <td>1.726442</td>\n",
       "      <td>88.432836</td>\n",
       "    </tr>\n",
       "    <tr>\n",
       "      <th>10</th>\n",
       "      <td>AL356- Porta Direita Aberta - Corrente de Produto</td>\n",
       "      <td>309</td>\n",
       "      <td>1.720873</td>\n",
       "      <td>90.153709</td>\n",
       "    </tr>\n",
       "    <tr>\n",
       "      <th>11</th>\n",
       "      <td>AL085- Bula não Expulsa</td>\n",
       "      <td>149</td>\n",
       "      <td>0.829806</td>\n",
       "      <td>90.983515</td>\n",
       "    </tr>\n",
       "    <tr>\n",
       "      <th>12</th>\n",
       "      <td>AL096- Falta de Cartucho</td>\n",
       "      <td>141</td>\n",
       "      <td>0.785253</td>\n",
       "      <td>91.768768</td>\n",
       "    </tr>\n",
       "    <tr>\n",
       "      <th>13</th>\n",
       "      <td>AL364- Porta Dianteira Direita Aberta - Transf...</td>\n",
       "      <td>134</td>\n",
       "      <td>0.746269</td>\n",
       "      <td>92.515037</td>\n",
       "    </tr>\n",
       "    <tr>\n",
       "      <th>14</th>\n",
       "      <td>AL045- Volante Puxado</td>\n",
       "      <td>95</td>\n",
       "      <td>0.529071</td>\n",
       "      <td>93.044108</td>\n",
       "    </tr>\n",
       "    <tr>\n",
       "      <th>15</th>\n",
       "      <td>AL025- Proteção da Extração de Cartuchos</td>\n",
       "      <td>91</td>\n",
       "      <td>0.506794</td>\n",
       "      <td>93.550902</td>\n",
       "    </tr>\n",
       "    <tr>\n",
       "      <th>16</th>\n",
       "      <td>AL366- Porta Traseira Direita Aberta - Transfe...</td>\n",
       "      <td>82</td>\n",
       "      <td>0.456672</td>\n",
       "      <td>94.007574</td>\n",
       "    </tr>\n",
       "    <tr>\n",
       "      <th>17</th>\n",
       "      <td>AL011- Baixa Pressão de Ar</td>\n",
       "      <td>75</td>\n",
       "      <td>0.417688</td>\n",
       "      <td>94.425262</td>\n",
       "    </tr>\n",
       "    <tr>\n",
       "      <th>18</th>\n",
       "      <td>AL059- Falha no Leitor de Código de Barras Bul...</td>\n",
       "      <td>73</td>\n",
       "      <td>0.406549</td>\n",
       "      <td>94.831811</td>\n",
       "    </tr>\n",
       "    <tr>\n",
       "      <th>19</th>\n",
       "      <td>AL060- Falha no Leitor de Código de Barras Bul...</td>\n",
       "      <td>72</td>\n",
       "      <td>0.400980</td>\n",
       "      <td>95.232791</td>\n",
       "    </tr>\n",
       "    <tr>\n",
       "      <th>20</th>\n",
       "      <td>AL013- Drivers não estão Prontos</td>\n",
       "      <td>66</td>\n",
       "      <td>0.367565</td>\n",
       "      <td>95.600356</td>\n",
       "    </tr>\n",
       "    <tr>\n",
       "      <th>21</th>\n",
       "      <td>AL152- Falha na Detecção de Blisters</td>\n",
       "      <td>65</td>\n",
       "      <td>0.361996</td>\n",
       "      <td>95.962352</td>\n",
       "    </tr>\n",
       "    <tr>\n",
       "      <th>26</th>\n",
       "      <td>AL128- Dispositivo de Cola não está Pronto</td>\n",
       "      <td>64</td>\n",
       "      <td>0.356427</td>\n",
       "      <td>96.318779</td>\n",
       "    </tr>\n",
       "    <tr>\n",
       "      <th>28</th>\n",
       "      <td>AL019- Falha no Relé de Segurança - CR30 Módulo 1</td>\n",
       "      <td>64</td>\n",
       "      <td>0.356427</td>\n",
       "      <td>96.675206</td>\n",
       "    </tr>\n",
       "    <tr>\n",
       "      <th>27</th>\n",
       "      <td>AL360- Proteção Inserção Aberta</td>\n",
       "      <td>64</td>\n",
       "      <td>0.356427</td>\n",
       "      <td>97.031633</td>\n",
       "    </tr>\n",
       "    <tr>\n",
       "      <th>22</th>\n",
       "      <td>AL018- Falha na Rede de Alimentação</td>\n",
       "      <td>64</td>\n",
       "      <td>0.356427</td>\n",
       "      <td>97.388060</td>\n",
       "    </tr>\n",
       "    <tr>\n",
       "      <th>25</th>\n",
       "      <td>AL020- Falha no Relé de Segurança - CR30 Módulo 2</td>\n",
       "      <td>64</td>\n",
       "      <td>0.356427</td>\n",
       "      <td>97.744487</td>\n",
       "    </tr>\n",
       "    <tr>\n",
       "      <th>24</th>\n",
       "      <td>AL021- Falha no Relé de Segurança - CR30 Módulo 3</td>\n",
       "      <td>64</td>\n",
       "      <td>0.356427</td>\n",
       "      <td>98.100913</td>\n",
       "    </tr>\n",
       "    <tr>\n",
       "      <th>23</th>\n",
       "      <td>AL098- Falha Consecutiva, Cartucho não Retirado</td>\n",
       "      <td>64</td>\n",
       "      <td>0.356427</td>\n",
       "      <td>98.457340</td>\n",
       "    </tr>\n",
       "    <tr>\n",
       "      <th>29</th>\n",
       "      <td>AL041- Sobrecarga nos Circuitos de Comando</td>\n",
       "      <td>63</td>\n",
       "      <td>0.350858</td>\n",
       "      <td>98.808198</td>\n",
       "    </tr>\n",
       "    <tr>\n",
       "      <th>30</th>\n",
       "      <td>AL086- Falta de Bula</td>\n",
       "      <td>53</td>\n",
       "      <td>0.295166</td>\n",
       "      <td>99.103364</td>\n",
       "    </tr>\n",
       "    <tr>\n",
       "      <th>31</th>\n",
       "      <td>AL355- Porta Traseira Esquerda Aberta - Esteir...</td>\n",
       "      <td>31</td>\n",
       "      <td>0.172644</td>\n",
       "      <td>99.276008</td>\n",
       "    </tr>\n",
       "    <tr>\n",
       "      <th>32</th>\n",
       "      <td>AL354- Porta Traseira Direita Aberta - Esteira...</td>\n",
       "      <td>29</td>\n",
       "      <td>0.161506</td>\n",
       "      <td>99.437514</td>\n",
       "    </tr>\n",
       "    <tr>\n",
       "      <th>33</th>\n",
       "      <td>AL353- Porta Esquerda Aberta - Corrente de Car...</td>\n",
       "      <td>28</td>\n",
       "      <td>0.155937</td>\n",
       "      <td>99.593451</td>\n",
       "    </tr>\n",
       "    <tr>\n",
       "      <th>34</th>\n",
       "      <td>AL357- Corrente de produto porta traseira aberta</td>\n",
       "      <td>20</td>\n",
       "      <td>0.111383</td>\n",
       "      <td>99.704834</td>\n",
       "    </tr>\n",
       "    <tr>\n",
       "      <th>35</th>\n",
       "      <td>AL097- Falha na Extração de Cartucho, Retirá-lo</td>\n",
       "      <td>17</td>\n",
       "      <td>0.094676</td>\n",
       "      <td>99.799510</td>\n",
       "    </tr>\n",
       "    <tr>\n",
       "      <th>36</th>\n",
       "      <td>AL359- Porta Aberta - Armação de Cartucho</td>\n",
       "      <td>14</td>\n",
       "      <td>0.077968</td>\n",
       "      <td>99.877478</td>\n",
       "    </tr>\n",
       "    <tr>\n",
       "      <th>37</th>\n",
       "      <td>AL142- Acúmulo de Produto na Esteira de Saída</td>\n",
       "      <td>14</td>\n",
       "      <td>0.077968</td>\n",
       "      <td>99.955447</td>\n",
       "    </tr>\n",
       "    <tr>\n",
       "      <th>38</th>\n",
       "      <td>AL089- Falha Consecutiva, Falta bula no Cartucho</td>\n",
       "      <td>2</td>\n",
       "      <td>0.011138</td>\n",
       "      <td>99.966585</td>\n",
       "    </tr>\n",
       "    <tr>\n",
       "      <th>39</th>\n",
       "      <td>AL061- Falha no Leitor de Código de Barras Car...</td>\n",
       "      <td>2</td>\n",
       "      <td>0.011138</td>\n",
       "      <td>99.977723</td>\n",
       "    </tr>\n",
       "    <tr>\n",
       "      <th>40</th>\n",
       "      <td>AL206- Falha no Módulo do Eixo - Eixo 02</td>\n",
       "      <td>1</td>\n",
       "      <td>0.005569</td>\n",
       "      <td>99.983292</td>\n",
       "    </tr>\n",
       "    <tr>\n",
       "      <th>41</th>\n",
       "      <td>AL224 - Falha no Eixo 03</td>\n",
       "      <td>1</td>\n",
       "      <td>0.005569</td>\n",
       "      <td>99.988862</td>\n",
       "    </tr>\n",
       "    <tr>\n",
       "      <th>42</th>\n",
       "      <td>AL238 - Falha no Módulo do Eixo - Eixo 03</td>\n",
       "      <td>1</td>\n",
       "      <td>0.005569</td>\n",
       "      <td>99.994431</td>\n",
       "    </tr>\n",
       "    <tr>\n",
       "      <th>43</th>\n",
       "      <td>AL192- Falha no Eixo 02</td>\n",
       "      <td>1</td>\n",
       "      <td>0.005569</td>\n",
       "      <td>100.000000</td>\n",
       "    </tr>\n",
       "  </tbody>\n",
       "</table>\n",
       "</div>"
      ],
      "text/plain": [
       "                                                Erros  Valores  Porcentagem  \\\n",
       "0         AL087- Falha Consecutiva, Bula não Retirada     5768    32.122967   \n",
       "1     AL090- Falha Consecutiva, Falta Bula na Esteira     4290    23.891735   \n",
       "2           AL118- Produto não Inserido Completamente     1590     8.854979   \n",
       "3                       AL042- Sobrecarga na Inserção      868     4.834039   \n",
       "4                  AL371- Porta Traseira Aberta - Guk      740     4.121185   \n",
       "5   AL358- Porta Direita Aberta - Esteira de Cartucho      647     3.603252   \n",
       "6   AL365- Porta Dianteira Esquerda Aberta - Trans...      614     3.419470   \n",
       "7                   AL370- Porta Direita Aberta - Guk      584     3.252395   \n",
       "8                   AL084- Bula Emperrada no Dobrador      468     2.606371   \n",
       "9        AL040- Sobrecarga no Dobrador da Aba Lateral      310     1.726442   \n",
       "10  AL356- Porta Direita Aberta - Corrente de Produto      309     1.720873   \n",
       "11                            AL085- Bula não Expulsa      149     0.829806   \n",
       "12                           AL096- Falta de Cartucho      141     0.785253   \n",
       "13  AL364- Porta Dianteira Direita Aberta - Transf...      134     0.746269   \n",
       "14                              AL045- Volante Puxado       95     0.529071   \n",
       "15           AL025- Proteção da Extração de Cartuchos       91     0.506794   \n",
       "16  AL366- Porta Traseira Direita Aberta - Transfe...       82     0.456672   \n",
       "17                         AL011- Baixa Pressão de Ar       75     0.417688   \n",
       "18  AL059- Falha no Leitor de Código de Barras Bul...       73     0.406549   \n",
       "19  AL060- Falha no Leitor de Código de Barras Bul...       72     0.400980   \n",
       "20                   AL013- Drivers não estão Prontos       66     0.367565   \n",
       "21               AL152- Falha na Detecção de Blisters       65     0.361996   \n",
       "26         AL128- Dispositivo de Cola não está Pronto       64     0.356427   \n",
       "28  AL019- Falha no Relé de Segurança - CR30 Módulo 1       64     0.356427   \n",
       "27                    AL360- Proteção Inserção Aberta       64     0.356427   \n",
       "22                AL018- Falha na Rede de Alimentação       64     0.356427   \n",
       "25  AL020- Falha no Relé de Segurança - CR30 Módulo 2       64     0.356427   \n",
       "24  AL021- Falha no Relé de Segurança - CR30 Módulo 3       64     0.356427   \n",
       "23    AL098- Falha Consecutiva, Cartucho não Retirado       64     0.356427   \n",
       "29         AL041- Sobrecarga nos Circuitos de Comando       63     0.350858   \n",
       "30                               AL086- Falta de Bula       53     0.295166   \n",
       "31  AL355- Porta Traseira Esquerda Aberta - Esteir...       31     0.172644   \n",
       "32  AL354- Porta Traseira Direita Aberta - Esteira...       29     0.161506   \n",
       "33  AL353- Porta Esquerda Aberta - Corrente de Car...       28     0.155937   \n",
       "34   AL357- Corrente de produto porta traseira aberta       20     0.111383   \n",
       "35    AL097- Falha na Extração de Cartucho, Retirá-lo       17     0.094676   \n",
       "36          AL359- Porta Aberta - Armação de Cartucho       14     0.077968   \n",
       "37      AL142- Acúmulo de Produto na Esteira de Saída       14     0.077968   \n",
       "38   AL089- Falha Consecutiva, Falta bula no Cartucho        2     0.011138   \n",
       "39  AL061- Falha no Leitor de Código de Barras Car...        2     0.011138   \n",
       "40           AL206- Falha no Módulo do Eixo - Eixo 02        1     0.005569   \n",
       "41                           AL224 - Falha no Eixo 03        1     0.005569   \n",
       "42          AL238 - Falha no Módulo do Eixo - Eixo 03        1     0.005569   \n",
       "43                            AL192- Falha no Eixo 02        1     0.005569   \n",
       "\n",
       "    CumPorcentual  \n",
       "0       32.122967  \n",
       "1       56.014703  \n",
       "2       64.869681  \n",
       "3       69.703720  \n",
       "4       73.824905  \n",
       "5       77.428158  \n",
       "6       80.847628  \n",
       "7       84.100022  \n",
       "8       86.706393  \n",
       "9       88.432836  \n",
       "10      90.153709  \n",
       "11      90.983515  \n",
       "12      91.768768  \n",
       "13      92.515037  \n",
       "14      93.044108  \n",
       "15      93.550902  \n",
       "16      94.007574  \n",
       "17      94.425262  \n",
       "18      94.831811  \n",
       "19      95.232791  \n",
       "20      95.600356  \n",
       "21      95.962352  \n",
       "26      96.318779  \n",
       "28      96.675206  \n",
       "27      97.031633  \n",
       "22      97.388060  \n",
       "25      97.744487  \n",
       "24      98.100913  \n",
       "23      98.457340  \n",
       "29      98.808198  \n",
       "30      99.103364  \n",
       "31      99.276008  \n",
       "32      99.437514  \n",
       "33      99.593451  \n",
       "34      99.704834  \n",
       "35      99.799510  \n",
       "36      99.877478  \n",
       "37      99.955447  \n",
       "38      99.966585  \n",
       "39      99.977723  \n",
       "40      99.983292  \n",
       "41      99.988862  \n",
       "42      99.994431  \n",
       "43     100.000000  "
      ]
     },
     "metadata": {},
     "output_type": "display_data"
    },
    {
     "name": "stdout",
     "output_type": "stream",
     "text": [
      "17956\n",
      "44\n"
     ]
    },
    {
     "data": {
      "text/html": [
       "<div>\n",
       "<style scoped>\n",
       "    .dataframe tbody tr th:only-of-type {\n",
       "        vertical-align: middle;\n",
       "    }\n",
       "\n",
       "    .dataframe tbody tr th {\n",
       "        vertical-align: top;\n",
       "    }\n",
       "\n",
       "    .dataframe thead th {\n",
       "        text-align: right;\n",
       "    }\n",
       "</style>\n",
       "<table border=\"1\" class=\"dataframe\">\n",
       "  <thead>\n",
       "    <tr style=\"text-align: right;\">\n",
       "      <th>1</th>\n",
       "      <th>Data/Hora Área Tag</th>\n",
       "      <th>Descrição</th>\n",
       "    </tr>\n",
       "  </thead>\n",
       "  <tbody>\n",
       "    <tr>\n",
       "      <th>2</th>\n",
       "      <td>15/3/2022  07:01:29 P126375_CPF5_20 Alarmes\\AL365</td>\n",
       "      <td>AL365- Porta Dianteira Esquerda Aberta - Trans...</td>\n",
       "    </tr>\n",
       "    <tr>\n",
       "      <th>4</th>\n",
       "      <td>15/3/2022  07:02:13 P126375_CPF5_20 Alarmes\\AL365</td>\n",
       "      <td>AL365- Porta Dianteira Esquerda Aberta - Trans...</td>\n",
       "    </tr>\n",
       "    <tr>\n",
       "      <th>6</th>\n",
       "      <td>15/3/2022  07:03:11 P126375_CPF5_20 Alarmes\\AL118</td>\n",
       "      <td>AL118- Produto não Inserido Completamente</td>\n",
       "    </tr>\n",
       "    <tr>\n",
       "      <th>8</th>\n",
       "      <td>15/3/2022  07:03:57 P126375_CPF5_20 Alarmes\\AL118</td>\n",
       "      <td>AL118- Produto não Inserido Completamente</td>\n",
       "    </tr>\n",
       "    <tr>\n",
       "      <th>10</th>\n",
       "      <td>15/3/2022  07:04:23 P126375_CPF5_20 Alarmes\\AL087</td>\n",
       "      <td>AL087- Falha Consecutiva, Bula não Retirada</td>\n",
       "    </tr>\n",
       "    <tr>\n",
       "      <th>...</th>\n",
       "      <td>...</td>\n",
       "      <td>...</td>\n",
       "    </tr>\n",
       "    <tr>\n",
       "      <th>36853</th>\n",
       "      <td>25/4/2022  11:30:41 P126375_CPF5_20 Alarmes\\AL084</td>\n",
       "      <td>AL084- Bula Emperrada no Dobrador</td>\n",
       "    </tr>\n",
       "    <tr>\n",
       "      <th>36855</th>\n",
       "      <td>25/4/2022  11:30:55 P126375_CPF5_20 Alarmes\\AL090</td>\n",
       "      <td>AL090- Falha Consecutiva, Falta Bula na Esteira</td>\n",
       "    </tr>\n",
       "    <tr>\n",
       "      <th>36857</th>\n",
       "      <td>25/4/2022  11:31:07 P126375_CPF5_20 Alarmes\\AL090</td>\n",
       "      <td>AL090- Falha Consecutiva, Falta Bula na Esteira</td>\n",
       "    </tr>\n",
       "    <tr>\n",
       "      <th>36859</th>\n",
       "      <td>25/4/2022  11:57:18 P126375_CPF5_20 Alarmes\\AL085</td>\n",
       "      <td>AL085- Bula não Expulsa</td>\n",
       "    </tr>\n",
       "    <tr>\n",
       "      <th>36861</th>\n",
       "      <td>25/4/2022  11:59:09 P126375_CPF5_20 Alarmes\\AL085</td>\n",
       "      <td>AL085- Bula não Expulsa</td>\n",
       "    </tr>\n",
       "  </tbody>\n",
       "</table>\n",
       "<p>17956 rows × 2 columns</p>\n",
       "</div>"
      ],
      "text/plain": [
       "1                                     Data/Hora Área Tag  \\\n",
       "2      15/3/2022  07:01:29 P126375_CPF5_20 Alarmes\\AL365   \n",
       "4      15/3/2022  07:02:13 P126375_CPF5_20 Alarmes\\AL365   \n",
       "6      15/3/2022  07:03:11 P126375_CPF5_20 Alarmes\\AL118   \n",
       "8      15/3/2022  07:03:57 P126375_CPF5_20 Alarmes\\AL118   \n",
       "10     15/3/2022  07:04:23 P126375_CPF5_20 Alarmes\\AL087   \n",
       "...                                                  ...   \n",
       "36853  25/4/2022  11:30:41 P126375_CPF5_20 Alarmes\\AL084   \n",
       "36855  25/4/2022  11:30:55 P126375_CPF5_20 Alarmes\\AL090   \n",
       "36857  25/4/2022  11:31:07 P126375_CPF5_20 Alarmes\\AL090   \n",
       "36859  25/4/2022  11:57:18 P126375_CPF5_20 Alarmes\\AL085   \n",
       "36861  25/4/2022  11:59:09 P126375_CPF5_20 Alarmes\\AL085   \n",
       "\n",
       "1                                              Descrição  \n",
       "2      AL365- Porta Dianteira Esquerda Aberta - Trans...  \n",
       "4      AL365- Porta Dianteira Esquerda Aberta - Trans...  \n",
       "6              AL118- Produto não Inserido Completamente  \n",
       "8              AL118- Produto não Inserido Completamente  \n",
       "10           AL087- Falha Consecutiva, Bula não Retirada  \n",
       "...                                                  ...  \n",
       "36853                  AL084- Bula Emperrada no Dobrador  \n",
       "36855    AL090- Falha Consecutiva, Falta Bula na Esteira  \n",
       "36857    AL090- Falha Consecutiva, Falta Bula na Esteira  \n",
       "36859                            AL085- Bula não Expulsa  \n",
       "36861                            AL085- Bula não Expulsa  \n",
       "\n",
       "[17956 rows x 2 columns]"
      ]
     },
     "metadata": {},
     "output_type": "display_data"
    },
    {
     "data": {
      "application/vnd.plotly.v1+json": {
       "config": {
        "plotlyServerURL": "https://plot.ly"
       },
       "data": [
        {
         "alignmentgroup": "True",
         "hovertemplate": "Erros=%{x}<br>Valores=%{y}<extra></extra>",
         "legendgroup": "",
         "marker": {
          "color": "#636efa",
          "pattern": {
           "shape": ""
          }
         },
         "name": "",
         "offsetgroup": "",
         "orientation": "v",
         "showlegend": false,
         "textposition": "auto",
         "type": "bar",
         "x": [
          "AL087- Falha Consecutiva, Bula não Retirada",
          "AL090- Falha Consecutiva, Falta Bula na Esteira",
          "AL118- Produto não Inserido Completamente",
          "AL042- Sobrecarga na Inserção",
          "AL371- Porta Traseira Aberta - Guk",
          "AL358- Porta Direita Aberta - Esteira de Cartucho",
          "AL365- Porta Dianteira Esquerda Aberta - Transferência",
          "AL370- Porta Direita Aberta - Guk",
          "AL084- Bula Emperrada no Dobrador",
          "AL040- Sobrecarga no Dobrador da Aba Lateral",
          "AL356- Porta Direita Aberta - Corrente de Produto",
          "AL085- Bula não Expulsa",
          "AL096- Falta de Cartucho",
          "AL364- Porta Dianteira Direita Aberta - Transferência de",
          "AL045- Volante Puxado",
          "AL025- Proteção da Extração de Cartuchos",
          "AL366- Porta Traseira Direita Aberta - Transferência de",
          "AL011- Baixa Pressão de Ar",
          "AL059- Falha no Leitor de Código de Barras Bula Superior",
          "AL060- Falha no Leitor de Código de Barras Bula Inferior",
          "AL013- Drivers não estão Prontos",
          "AL152- Falha na Detecção de Blisters",
          "AL128- Dispositivo de Cola não está Pronto",
          "AL019- Falha no Relé de Segurança - CR30 Módulo 1",
          "AL360- Proteção Inserção Aberta",
          "AL018- Falha na Rede de Alimentação",
          "AL020- Falha no Relé de Segurança - CR30 Módulo 2",
          "AL021- Falha no Relé de Segurança - CR30 Módulo 3",
          "AL098- Falha Consecutiva, Cartucho não Retirado",
          "AL041- Sobrecarga nos Circuitos de Comando",
          "AL086- Falta de Bula",
          "AL355- Porta Traseira Esquerda Aberta - Esteira de",
          "AL354- Porta Traseira Direita Aberta - Esteira de Cartucho",
          "AL353- Porta Esquerda Aberta - Corrente de Cartucho",
          "AL357- Corrente de produto porta traseira aberta",
          "AL097- Falha na Extração de Cartucho, Retirá-lo",
          "AL359- Porta Aberta - Armação de Cartucho",
          "AL142- Acúmulo de Produto na Esteira de Saída",
          "AL089- Falha Consecutiva, Falta bula no Cartucho",
          "AL061- Falha no Leitor de Código de Barras Cartucho",
          "AL206- Falha no Módulo do Eixo - Eixo 02",
          "AL224 - Falha no Eixo 03",
          "AL238 - Falha no Módulo do Eixo - Eixo 03",
          "AL192- Falha no Eixo 02"
         ],
         "xaxis": "x",
         "y": [
          5768,
          4290,
          1590,
          868,
          740,
          647,
          614,
          584,
          468,
          310,
          309,
          149,
          141,
          134,
          95,
          91,
          82,
          75,
          73,
          72,
          66,
          65,
          64,
          64,
          64,
          64,
          64,
          64,
          64,
          63,
          53,
          31,
          29,
          28,
          20,
          17,
          14,
          14,
          2,
          2,
          1,
          1,
          1,
          1
         ],
         "yaxis": "y"
        }
       ],
       "layout": {
        "barmode": "relative",
        "legend": {
         "tracegroupgap": 0
        },
        "margin": {
         "t": 60
        },
        "template": {
         "data": {
          "bar": [
           {
            "error_x": {
             "color": "#2a3f5f"
            },
            "error_y": {
             "color": "#2a3f5f"
            },
            "marker": {
             "line": {
              "color": "#E5ECF6",
              "width": 0.5
             },
             "pattern": {
              "fillmode": "overlay",
              "size": 10,
              "solidity": 0.2
             }
            },
            "type": "bar"
           }
          ],
          "barpolar": [
           {
            "marker": {
             "line": {
              "color": "#E5ECF6",
              "width": 0.5
             },
             "pattern": {
              "fillmode": "overlay",
              "size": 10,
              "solidity": 0.2
             }
            },
            "type": "barpolar"
           }
          ],
          "carpet": [
           {
            "aaxis": {
             "endlinecolor": "#2a3f5f",
             "gridcolor": "white",
             "linecolor": "white",
             "minorgridcolor": "white",
             "startlinecolor": "#2a3f5f"
            },
            "baxis": {
             "endlinecolor": "#2a3f5f",
             "gridcolor": "white",
             "linecolor": "white",
             "minorgridcolor": "white",
             "startlinecolor": "#2a3f5f"
            },
            "type": "carpet"
           }
          ],
          "choropleth": [
           {
            "colorbar": {
             "outlinewidth": 0,
             "ticks": ""
            },
            "type": "choropleth"
           }
          ],
          "contour": [
           {
            "colorbar": {
             "outlinewidth": 0,
             "ticks": ""
            },
            "colorscale": [
             [
              0,
              "#0d0887"
             ],
             [
              0.1111111111111111,
              "#46039f"
             ],
             [
              0.2222222222222222,
              "#7201a8"
             ],
             [
              0.3333333333333333,
              "#9c179e"
             ],
             [
              0.4444444444444444,
              "#bd3786"
             ],
             [
              0.5555555555555556,
              "#d8576b"
             ],
             [
              0.6666666666666666,
              "#ed7953"
             ],
             [
              0.7777777777777778,
              "#fb9f3a"
             ],
             [
              0.8888888888888888,
              "#fdca26"
             ],
             [
              1,
              "#f0f921"
             ]
            ],
            "type": "contour"
           }
          ],
          "contourcarpet": [
           {
            "colorbar": {
             "outlinewidth": 0,
             "ticks": ""
            },
            "type": "contourcarpet"
           }
          ],
          "heatmap": [
           {
            "colorbar": {
             "outlinewidth": 0,
             "ticks": ""
            },
            "colorscale": [
             [
              0,
              "#0d0887"
             ],
             [
              0.1111111111111111,
              "#46039f"
             ],
             [
              0.2222222222222222,
              "#7201a8"
             ],
             [
              0.3333333333333333,
              "#9c179e"
             ],
             [
              0.4444444444444444,
              "#bd3786"
             ],
             [
              0.5555555555555556,
              "#d8576b"
             ],
             [
              0.6666666666666666,
              "#ed7953"
             ],
             [
              0.7777777777777778,
              "#fb9f3a"
             ],
             [
              0.8888888888888888,
              "#fdca26"
             ],
             [
              1,
              "#f0f921"
             ]
            ],
            "type": "heatmap"
           }
          ],
          "heatmapgl": [
           {
            "colorbar": {
             "outlinewidth": 0,
             "ticks": ""
            },
            "colorscale": [
             [
              0,
              "#0d0887"
             ],
             [
              0.1111111111111111,
              "#46039f"
             ],
             [
              0.2222222222222222,
              "#7201a8"
             ],
             [
              0.3333333333333333,
              "#9c179e"
             ],
             [
              0.4444444444444444,
              "#bd3786"
             ],
             [
              0.5555555555555556,
              "#d8576b"
             ],
             [
              0.6666666666666666,
              "#ed7953"
             ],
             [
              0.7777777777777778,
              "#fb9f3a"
             ],
             [
              0.8888888888888888,
              "#fdca26"
             ],
             [
              1,
              "#f0f921"
             ]
            ],
            "type": "heatmapgl"
           }
          ],
          "histogram": [
           {
            "marker": {
             "pattern": {
              "fillmode": "overlay",
              "size": 10,
              "solidity": 0.2
             }
            },
            "type": "histogram"
           }
          ],
          "histogram2d": [
           {
            "colorbar": {
             "outlinewidth": 0,
             "ticks": ""
            },
            "colorscale": [
             [
              0,
              "#0d0887"
             ],
             [
              0.1111111111111111,
              "#46039f"
             ],
             [
              0.2222222222222222,
              "#7201a8"
             ],
             [
              0.3333333333333333,
              "#9c179e"
             ],
             [
              0.4444444444444444,
              "#bd3786"
             ],
             [
              0.5555555555555556,
              "#d8576b"
             ],
             [
              0.6666666666666666,
              "#ed7953"
             ],
             [
              0.7777777777777778,
              "#fb9f3a"
             ],
             [
              0.8888888888888888,
              "#fdca26"
             ],
             [
              1,
              "#f0f921"
             ]
            ],
            "type": "histogram2d"
           }
          ],
          "histogram2dcontour": [
           {
            "colorbar": {
             "outlinewidth": 0,
             "ticks": ""
            },
            "colorscale": [
             [
              0,
              "#0d0887"
             ],
             [
              0.1111111111111111,
              "#46039f"
             ],
             [
              0.2222222222222222,
              "#7201a8"
             ],
             [
              0.3333333333333333,
              "#9c179e"
             ],
             [
              0.4444444444444444,
              "#bd3786"
             ],
             [
              0.5555555555555556,
              "#d8576b"
             ],
             [
              0.6666666666666666,
              "#ed7953"
             ],
             [
              0.7777777777777778,
              "#fb9f3a"
             ],
             [
              0.8888888888888888,
              "#fdca26"
             ],
             [
              1,
              "#f0f921"
             ]
            ],
            "type": "histogram2dcontour"
           }
          ],
          "mesh3d": [
           {
            "colorbar": {
             "outlinewidth": 0,
             "ticks": ""
            },
            "type": "mesh3d"
           }
          ],
          "parcoords": [
           {
            "line": {
             "colorbar": {
              "outlinewidth": 0,
              "ticks": ""
             }
            },
            "type": "parcoords"
           }
          ],
          "pie": [
           {
            "automargin": true,
            "type": "pie"
           }
          ],
          "scatter": [
           {
            "fillpattern": {
             "fillmode": "overlay",
             "size": 10,
             "solidity": 0.2
            },
            "type": "scatter"
           }
          ],
          "scatter3d": [
           {
            "line": {
             "colorbar": {
              "outlinewidth": 0,
              "ticks": ""
             }
            },
            "marker": {
             "colorbar": {
              "outlinewidth": 0,
              "ticks": ""
             }
            },
            "type": "scatter3d"
           }
          ],
          "scattercarpet": [
           {
            "marker": {
             "colorbar": {
              "outlinewidth": 0,
              "ticks": ""
             }
            },
            "type": "scattercarpet"
           }
          ],
          "scattergeo": [
           {
            "marker": {
             "colorbar": {
              "outlinewidth": 0,
              "ticks": ""
             }
            },
            "type": "scattergeo"
           }
          ],
          "scattergl": [
           {
            "marker": {
             "colorbar": {
              "outlinewidth": 0,
              "ticks": ""
             }
            },
            "type": "scattergl"
           }
          ],
          "scattermapbox": [
           {
            "marker": {
             "colorbar": {
              "outlinewidth": 0,
              "ticks": ""
             }
            },
            "type": "scattermapbox"
           }
          ],
          "scatterpolar": [
           {
            "marker": {
             "colorbar": {
              "outlinewidth": 0,
              "ticks": ""
             }
            },
            "type": "scatterpolar"
           }
          ],
          "scatterpolargl": [
           {
            "marker": {
             "colorbar": {
              "outlinewidth": 0,
              "ticks": ""
             }
            },
            "type": "scatterpolargl"
           }
          ],
          "scatterternary": [
           {
            "marker": {
             "colorbar": {
              "outlinewidth": 0,
              "ticks": ""
             }
            },
            "type": "scatterternary"
           }
          ],
          "surface": [
           {
            "colorbar": {
             "outlinewidth": 0,
             "ticks": ""
            },
            "colorscale": [
             [
              0,
              "#0d0887"
             ],
             [
              0.1111111111111111,
              "#46039f"
             ],
             [
              0.2222222222222222,
              "#7201a8"
             ],
             [
              0.3333333333333333,
              "#9c179e"
             ],
             [
              0.4444444444444444,
              "#bd3786"
             ],
             [
              0.5555555555555556,
              "#d8576b"
             ],
             [
              0.6666666666666666,
              "#ed7953"
             ],
             [
              0.7777777777777778,
              "#fb9f3a"
             ],
             [
              0.8888888888888888,
              "#fdca26"
             ],
             [
              1,
              "#f0f921"
             ]
            ],
            "type": "surface"
           }
          ],
          "table": [
           {
            "cells": {
             "fill": {
              "color": "#EBF0F8"
             },
             "line": {
              "color": "white"
             }
            },
            "header": {
             "fill": {
              "color": "#C8D4E3"
             },
             "line": {
              "color": "white"
             }
            },
            "type": "table"
           }
          ]
         },
         "layout": {
          "annotationdefaults": {
           "arrowcolor": "#2a3f5f",
           "arrowhead": 0,
           "arrowwidth": 1
          },
          "autotypenumbers": "strict",
          "coloraxis": {
           "colorbar": {
            "outlinewidth": 0,
            "ticks": ""
           }
          },
          "colorscale": {
           "diverging": [
            [
             0,
             "#8e0152"
            ],
            [
             0.1,
             "#c51b7d"
            ],
            [
             0.2,
             "#de77ae"
            ],
            [
             0.3,
             "#f1b6da"
            ],
            [
             0.4,
             "#fde0ef"
            ],
            [
             0.5,
             "#f7f7f7"
            ],
            [
             0.6,
             "#e6f5d0"
            ],
            [
             0.7,
             "#b8e186"
            ],
            [
             0.8,
             "#7fbc41"
            ],
            [
             0.9,
             "#4d9221"
            ],
            [
             1,
             "#276419"
            ]
           ],
           "sequential": [
            [
             0,
             "#0d0887"
            ],
            [
             0.1111111111111111,
             "#46039f"
            ],
            [
             0.2222222222222222,
             "#7201a8"
            ],
            [
             0.3333333333333333,
             "#9c179e"
            ],
            [
             0.4444444444444444,
             "#bd3786"
            ],
            [
             0.5555555555555556,
             "#d8576b"
            ],
            [
             0.6666666666666666,
             "#ed7953"
            ],
            [
             0.7777777777777778,
             "#fb9f3a"
            ],
            [
             0.8888888888888888,
             "#fdca26"
            ],
            [
             1,
             "#f0f921"
            ]
           ],
           "sequentialminus": [
            [
             0,
             "#0d0887"
            ],
            [
             0.1111111111111111,
             "#46039f"
            ],
            [
             0.2222222222222222,
             "#7201a8"
            ],
            [
             0.3333333333333333,
             "#9c179e"
            ],
            [
             0.4444444444444444,
             "#bd3786"
            ],
            [
             0.5555555555555556,
             "#d8576b"
            ],
            [
             0.6666666666666666,
             "#ed7953"
            ],
            [
             0.7777777777777778,
             "#fb9f3a"
            ],
            [
             0.8888888888888888,
             "#fdca26"
            ],
            [
             1,
             "#f0f921"
            ]
           ]
          },
          "colorway": [
           "#636efa",
           "#EF553B",
           "#00cc96",
           "#ab63fa",
           "#FFA15A",
           "#19d3f3",
           "#FF6692",
           "#B6E880",
           "#FF97FF",
           "#FECB52"
          ],
          "font": {
           "color": "#2a3f5f"
          },
          "geo": {
           "bgcolor": "white",
           "lakecolor": "white",
           "landcolor": "#E5ECF6",
           "showlakes": true,
           "showland": true,
           "subunitcolor": "white"
          },
          "hoverlabel": {
           "align": "left"
          },
          "hovermode": "closest",
          "mapbox": {
           "style": "light"
          },
          "paper_bgcolor": "white",
          "plot_bgcolor": "#E5ECF6",
          "polar": {
           "angularaxis": {
            "gridcolor": "white",
            "linecolor": "white",
            "ticks": ""
           },
           "bgcolor": "#E5ECF6",
           "radialaxis": {
            "gridcolor": "white",
            "linecolor": "white",
            "ticks": ""
           }
          },
          "scene": {
           "xaxis": {
            "backgroundcolor": "#E5ECF6",
            "gridcolor": "white",
            "gridwidth": 2,
            "linecolor": "white",
            "showbackground": true,
            "ticks": "",
            "zerolinecolor": "white"
           },
           "yaxis": {
            "backgroundcolor": "#E5ECF6",
            "gridcolor": "white",
            "gridwidth": 2,
            "linecolor": "white",
            "showbackground": true,
            "ticks": "",
            "zerolinecolor": "white"
           },
           "zaxis": {
            "backgroundcolor": "#E5ECF6",
            "gridcolor": "white",
            "gridwidth": 2,
            "linecolor": "white",
            "showbackground": true,
            "ticks": "",
            "zerolinecolor": "white"
           }
          },
          "shapedefaults": {
           "line": {
            "color": "#2a3f5f"
           }
          },
          "ternary": {
           "aaxis": {
            "gridcolor": "white",
            "linecolor": "white",
            "ticks": ""
           },
           "baxis": {
            "gridcolor": "white",
            "linecolor": "white",
            "ticks": ""
           },
           "bgcolor": "#E5ECF6",
           "caxis": {
            "gridcolor": "white",
            "linecolor": "white",
            "ticks": ""
           }
          },
          "title": {
           "x": 0.05
          },
          "xaxis": {
           "automargin": true,
           "gridcolor": "white",
           "linecolor": "white",
           "ticks": "",
           "title": {
            "standoff": 15
           },
           "zerolinecolor": "white",
           "zerolinewidth": 2
          },
          "yaxis": {
           "automargin": true,
           "gridcolor": "white",
           "linecolor": "white",
           "ticks": "",
           "title": {
            "standoff": 15
           },
           "zerolinecolor": "white",
           "zerolinewidth": 2
          }
         }
        },
        "xaxis": {
         "anchor": "y",
         "domain": [
          0,
          1
         ],
         "title": {
          "text": "Erros"
         }
        },
        "yaxis": {
         "anchor": "x",
         "domain": [
          0,
          1
         ],
         "title": {
          "text": "Valores"
         }
        }
       }
      },
      "text/html": [
       "<div>                            <div id=\"54a7dd52-a2a9-4464-bc4c-88af252c53ac\" class=\"plotly-graph-div\" style=\"height:525px; width:100%;\"></div>            <script type=\"text/javascript\">                require([\"plotly\"], function(Plotly) {                    window.PLOTLYENV=window.PLOTLYENV || {};                                    if (document.getElementById(\"54a7dd52-a2a9-4464-bc4c-88af252c53ac\")) {                    Plotly.newPlot(                        \"54a7dd52-a2a9-4464-bc4c-88af252c53ac\",                        [{\"alignmentgroup\":\"True\",\"hovertemplate\":\"Erros=%{x}<br>Valores=%{y}<extra></extra>\",\"legendgroup\":\"\",\"marker\":{\"color\":\"#636efa\",\"pattern\":{\"shape\":\"\"}},\"name\":\"\",\"offsetgroup\":\"\",\"orientation\":\"v\",\"showlegend\":false,\"textposition\":\"auto\",\"x\":[\"AL087- Falha Consecutiva, Bula n\\u00e3o Retirada\",\"AL090- Falha Consecutiva, Falta Bula na Esteira\",\"AL118- Produto n\\u00e3o Inserido Completamente\",\"AL042- Sobrecarga na Inser\\u00e7\\u00e3o\",\"AL371- Porta Traseira Aberta - Guk\",\"AL358- Porta Direita Aberta - Esteira de Cartucho\",\"AL365- Porta Dianteira Esquerda Aberta - Transfer\\u00eancia\",\"AL370- Porta Direita Aberta - Guk\",\"AL084- Bula Emperrada no Dobrador\",\"AL040- Sobrecarga no Dobrador da Aba Lateral\",\"AL356- Porta Direita Aberta - Corrente de Produto\",\"AL085- Bula n\\u00e3o Expulsa\",\"AL096- Falta de Cartucho\",\"AL364- Porta Dianteira Direita Aberta - Transfer\\u00eancia de\",\"AL045- Volante Puxado\",\"AL025- Prote\\u00e7\\u00e3o da Extra\\u00e7\\u00e3o de Cartuchos\",\"AL366- Porta Traseira Direita Aberta - Transfer\\u00eancia de\",\"AL011- Baixa Press\\u00e3o de Ar\",\"AL059- Falha no Leitor de C\\u00f3digo de Barras Bula Superior\",\"AL060- Falha no Leitor de C\\u00f3digo de Barras Bula Inferior\",\"AL013- Drivers n\\u00e3o est\\u00e3o Prontos\",\"AL152- Falha na Detec\\u00e7\\u00e3o de Blisters\",\"AL128- Dispositivo de Cola n\\u00e3o est\\u00e1 Pronto\",\"AL019- Falha no Rel\\u00e9 de Seguran\\u00e7a - CR30 M\\u00f3dulo 1\",\"AL360- Prote\\u00e7\\u00e3o Inser\\u00e7\\u00e3o Aberta\",\"AL018- Falha na Rede de Alimenta\\u00e7\\u00e3o\",\"AL020- Falha no Rel\\u00e9 de Seguran\\u00e7a - CR30 M\\u00f3dulo 2\",\"AL021- Falha no Rel\\u00e9 de Seguran\\u00e7a - CR30 M\\u00f3dulo 3\",\"AL098- Falha Consecutiva, Cartucho n\\u00e3o Retirado\",\"AL041- Sobrecarga nos Circuitos de Comando\",\"AL086- Falta de Bula\",\"AL355- Porta Traseira Esquerda Aberta - Esteira de\",\"AL354- Porta Traseira Direita Aberta - Esteira de Cartucho\",\"AL353- Porta Esquerda Aberta - Corrente de Cartucho\",\"AL357- Corrente de produto porta traseira aberta\",\"AL097- Falha na Extra\\u00e7\\u00e3o de Cartucho, Retir\\u00e1-lo\",\"AL359- Porta Aberta - Arma\\u00e7\\u00e3o de Cartucho\",\"AL142- Ac\\u00famulo de Produto na Esteira de Sa\\u00edda\",\"AL089- Falha Consecutiva, Falta bula no Cartucho\",\"AL061- Falha no Leitor de C\\u00f3digo de Barras Cartucho\",\"AL206- Falha no M\\u00f3dulo do Eixo - Eixo 02\",\"AL224 - Falha no Eixo 03\",\"AL238 - Falha no M\\u00f3dulo do Eixo - Eixo 03\",\"AL192- Falha no Eixo 02\"],\"xaxis\":\"x\",\"y\":[5768,4290,1590,868,740,647,614,584,468,310,309,149,141,134,95,91,82,75,73,72,66,65,64,64,64,64,64,64,64,63,53,31,29,28,20,17,14,14,2,2,1,1,1,1],\"yaxis\":\"y\",\"type\":\"bar\"}],                        {\"template\":{\"data\":{\"histogram2dcontour\":[{\"type\":\"histogram2dcontour\",\"colorbar\":{\"outlinewidth\":0,\"ticks\":\"\"},\"colorscale\":[[0.0,\"#0d0887\"],[0.1111111111111111,\"#46039f\"],[0.2222222222222222,\"#7201a8\"],[0.3333333333333333,\"#9c179e\"],[0.4444444444444444,\"#bd3786\"],[0.5555555555555556,\"#d8576b\"],[0.6666666666666666,\"#ed7953\"],[0.7777777777777778,\"#fb9f3a\"],[0.8888888888888888,\"#fdca26\"],[1.0,\"#f0f921\"]]}],\"choropleth\":[{\"type\":\"choropleth\",\"colorbar\":{\"outlinewidth\":0,\"ticks\":\"\"}}],\"histogram2d\":[{\"type\":\"histogram2d\",\"colorbar\":{\"outlinewidth\":0,\"ticks\":\"\"},\"colorscale\":[[0.0,\"#0d0887\"],[0.1111111111111111,\"#46039f\"],[0.2222222222222222,\"#7201a8\"],[0.3333333333333333,\"#9c179e\"],[0.4444444444444444,\"#bd3786\"],[0.5555555555555556,\"#d8576b\"],[0.6666666666666666,\"#ed7953\"],[0.7777777777777778,\"#fb9f3a\"],[0.8888888888888888,\"#fdca26\"],[1.0,\"#f0f921\"]]}],\"heatmap\":[{\"type\":\"heatmap\",\"colorbar\":{\"outlinewidth\":0,\"ticks\":\"\"},\"colorscale\":[[0.0,\"#0d0887\"],[0.1111111111111111,\"#46039f\"],[0.2222222222222222,\"#7201a8\"],[0.3333333333333333,\"#9c179e\"],[0.4444444444444444,\"#bd3786\"],[0.5555555555555556,\"#d8576b\"],[0.6666666666666666,\"#ed7953\"],[0.7777777777777778,\"#fb9f3a\"],[0.8888888888888888,\"#fdca26\"],[1.0,\"#f0f921\"]]}],\"heatmapgl\":[{\"type\":\"heatmapgl\",\"colorbar\":{\"outlinewidth\":0,\"ticks\":\"\"},\"colorscale\":[[0.0,\"#0d0887\"],[0.1111111111111111,\"#46039f\"],[0.2222222222222222,\"#7201a8\"],[0.3333333333333333,\"#9c179e\"],[0.4444444444444444,\"#bd3786\"],[0.5555555555555556,\"#d8576b\"],[0.6666666666666666,\"#ed7953\"],[0.7777777777777778,\"#fb9f3a\"],[0.8888888888888888,\"#fdca26\"],[1.0,\"#f0f921\"]]}],\"contourcarpet\":[{\"type\":\"contourcarpet\",\"colorbar\":{\"outlinewidth\":0,\"ticks\":\"\"}}],\"contour\":[{\"type\":\"contour\",\"colorbar\":{\"outlinewidth\":0,\"ticks\":\"\"},\"colorscale\":[[0.0,\"#0d0887\"],[0.1111111111111111,\"#46039f\"],[0.2222222222222222,\"#7201a8\"],[0.3333333333333333,\"#9c179e\"],[0.4444444444444444,\"#bd3786\"],[0.5555555555555556,\"#d8576b\"],[0.6666666666666666,\"#ed7953\"],[0.7777777777777778,\"#fb9f3a\"],[0.8888888888888888,\"#fdca26\"],[1.0,\"#f0f921\"]]}],\"surface\":[{\"type\":\"surface\",\"colorbar\":{\"outlinewidth\":0,\"ticks\":\"\"},\"colorscale\":[[0.0,\"#0d0887\"],[0.1111111111111111,\"#46039f\"],[0.2222222222222222,\"#7201a8\"],[0.3333333333333333,\"#9c179e\"],[0.4444444444444444,\"#bd3786\"],[0.5555555555555556,\"#d8576b\"],[0.6666666666666666,\"#ed7953\"],[0.7777777777777778,\"#fb9f3a\"],[0.8888888888888888,\"#fdca26\"],[1.0,\"#f0f921\"]]}],\"mesh3d\":[{\"type\":\"mesh3d\",\"colorbar\":{\"outlinewidth\":0,\"ticks\":\"\"}}],\"scatter\":[{\"fillpattern\":{\"fillmode\":\"overlay\",\"size\":10,\"solidity\":0.2},\"type\":\"scatter\"}],\"parcoords\":[{\"type\":\"parcoords\",\"line\":{\"colorbar\":{\"outlinewidth\":0,\"ticks\":\"\"}}}],\"scatterpolargl\":[{\"type\":\"scatterpolargl\",\"marker\":{\"colorbar\":{\"outlinewidth\":0,\"ticks\":\"\"}}}],\"bar\":[{\"error_x\":{\"color\":\"#2a3f5f\"},\"error_y\":{\"color\":\"#2a3f5f\"},\"marker\":{\"line\":{\"color\":\"#E5ECF6\",\"width\":0.5},\"pattern\":{\"fillmode\":\"overlay\",\"size\":10,\"solidity\":0.2}},\"type\":\"bar\"}],\"scattergeo\":[{\"type\":\"scattergeo\",\"marker\":{\"colorbar\":{\"outlinewidth\":0,\"ticks\":\"\"}}}],\"scatterpolar\":[{\"type\":\"scatterpolar\",\"marker\":{\"colorbar\":{\"outlinewidth\":0,\"ticks\":\"\"}}}],\"histogram\":[{\"marker\":{\"pattern\":{\"fillmode\":\"overlay\",\"size\":10,\"solidity\":0.2}},\"type\":\"histogram\"}],\"scattergl\":[{\"type\":\"scattergl\",\"marker\":{\"colorbar\":{\"outlinewidth\":0,\"ticks\":\"\"}}}],\"scatter3d\":[{\"type\":\"scatter3d\",\"line\":{\"colorbar\":{\"outlinewidth\":0,\"ticks\":\"\"}},\"marker\":{\"colorbar\":{\"outlinewidth\":0,\"ticks\":\"\"}}}],\"scattermapbox\":[{\"type\":\"scattermapbox\",\"marker\":{\"colorbar\":{\"outlinewidth\":0,\"ticks\":\"\"}}}],\"scatterternary\":[{\"type\":\"scatterternary\",\"marker\":{\"colorbar\":{\"outlinewidth\":0,\"ticks\":\"\"}}}],\"scattercarpet\":[{\"type\":\"scattercarpet\",\"marker\":{\"colorbar\":{\"outlinewidth\":0,\"ticks\":\"\"}}}],\"carpet\":[{\"aaxis\":{\"endlinecolor\":\"#2a3f5f\",\"gridcolor\":\"white\",\"linecolor\":\"white\",\"minorgridcolor\":\"white\",\"startlinecolor\":\"#2a3f5f\"},\"baxis\":{\"endlinecolor\":\"#2a3f5f\",\"gridcolor\":\"white\",\"linecolor\":\"white\",\"minorgridcolor\":\"white\",\"startlinecolor\":\"#2a3f5f\"},\"type\":\"carpet\"}],\"table\":[{\"cells\":{\"fill\":{\"color\":\"#EBF0F8\"},\"line\":{\"color\":\"white\"}},\"header\":{\"fill\":{\"color\":\"#C8D4E3\"},\"line\":{\"color\":\"white\"}},\"type\":\"table\"}],\"barpolar\":[{\"marker\":{\"line\":{\"color\":\"#E5ECF6\",\"width\":0.5},\"pattern\":{\"fillmode\":\"overlay\",\"size\":10,\"solidity\":0.2}},\"type\":\"barpolar\"}],\"pie\":[{\"automargin\":true,\"type\":\"pie\"}]},\"layout\":{\"autotypenumbers\":\"strict\",\"colorway\":[\"#636efa\",\"#EF553B\",\"#00cc96\",\"#ab63fa\",\"#FFA15A\",\"#19d3f3\",\"#FF6692\",\"#B6E880\",\"#FF97FF\",\"#FECB52\"],\"font\":{\"color\":\"#2a3f5f\"},\"hovermode\":\"closest\",\"hoverlabel\":{\"align\":\"left\"},\"paper_bgcolor\":\"white\",\"plot_bgcolor\":\"#E5ECF6\",\"polar\":{\"bgcolor\":\"#E5ECF6\",\"angularaxis\":{\"gridcolor\":\"white\",\"linecolor\":\"white\",\"ticks\":\"\"},\"radialaxis\":{\"gridcolor\":\"white\",\"linecolor\":\"white\",\"ticks\":\"\"}},\"ternary\":{\"bgcolor\":\"#E5ECF6\",\"aaxis\":{\"gridcolor\":\"white\",\"linecolor\":\"white\",\"ticks\":\"\"},\"baxis\":{\"gridcolor\":\"white\",\"linecolor\":\"white\",\"ticks\":\"\"},\"caxis\":{\"gridcolor\":\"white\",\"linecolor\":\"white\",\"ticks\":\"\"}},\"coloraxis\":{\"colorbar\":{\"outlinewidth\":0,\"ticks\":\"\"}},\"colorscale\":{\"sequential\":[[0.0,\"#0d0887\"],[0.1111111111111111,\"#46039f\"],[0.2222222222222222,\"#7201a8\"],[0.3333333333333333,\"#9c179e\"],[0.4444444444444444,\"#bd3786\"],[0.5555555555555556,\"#d8576b\"],[0.6666666666666666,\"#ed7953\"],[0.7777777777777778,\"#fb9f3a\"],[0.8888888888888888,\"#fdca26\"],[1.0,\"#f0f921\"]],\"sequentialminus\":[[0.0,\"#0d0887\"],[0.1111111111111111,\"#46039f\"],[0.2222222222222222,\"#7201a8\"],[0.3333333333333333,\"#9c179e\"],[0.4444444444444444,\"#bd3786\"],[0.5555555555555556,\"#d8576b\"],[0.6666666666666666,\"#ed7953\"],[0.7777777777777778,\"#fb9f3a\"],[0.8888888888888888,\"#fdca26\"],[1.0,\"#f0f921\"]],\"diverging\":[[0,\"#8e0152\"],[0.1,\"#c51b7d\"],[0.2,\"#de77ae\"],[0.3,\"#f1b6da\"],[0.4,\"#fde0ef\"],[0.5,\"#f7f7f7\"],[0.6,\"#e6f5d0\"],[0.7,\"#b8e186\"],[0.8,\"#7fbc41\"],[0.9,\"#4d9221\"],[1,\"#276419\"]]},\"xaxis\":{\"gridcolor\":\"white\",\"linecolor\":\"white\",\"ticks\":\"\",\"title\":{\"standoff\":15},\"zerolinecolor\":\"white\",\"automargin\":true,\"zerolinewidth\":2},\"yaxis\":{\"gridcolor\":\"white\",\"linecolor\":\"white\",\"ticks\":\"\",\"title\":{\"standoff\":15},\"zerolinecolor\":\"white\",\"automargin\":true,\"zerolinewidth\":2},\"scene\":{\"xaxis\":{\"backgroundcolor\":\"#E5ECF6\",\"gridcolor\":\"white\",\"linecolor\":\"white\",\"showbackground\":true,\"ticks\":\"\",\"zerolinecolor\":\"white\",\"gridwidth\":2},\"yaxis\":{\"backgroundcolor\":\"#E5ECF6\",\"gridcolor\":\"white\",\"linecolor\":\"white\",\"showbackground\":true,\"ticks\":\"\",\"zerolinecolor\":\"white\",\"gridwidth\":2},\"zaxis\":{\"backgroundcolor\":\"#E5ECF6\",\"gridcolor\":\"white\",\"linecolor\":\"white\",\"showbackground\":true,\"ticks\":\"\",\"zerolinecolor\":\"white\",\"gridwidth\":2}},\"shapedefaults\":{\"line\":{\"color\":\"#2a3f5f\"}},\"annotationdefaults\":{\"arrowcolor\":\"#2a3f5f\",\"arrowhead\":0,\"arrowwidth\":1},\"geo\":{\"bgcolor\":\"white\",\"landcolor\":\"#E5ECF6\",\"subunitcolor\":\"white\",\"showland\":true,\"showlakes\":true,\"lakecolor\":\"white\"},\"title\":{\"x\":0.05},\"mapbox\":{\"style\":\"light\"}}},\"xaxis\":{\"anchor\":\"y\",\"domain\":[0.0,1.0],\"title\":{\"text\":\"Erros\"}},\"yaxis\":{\"anchor\":\"x\",\"domain\":[0.0,1.0],\"title\":{\"text\":\"Valores\"}},\"legend\":{\"tracegroupgap\":0},\"margin\":{\"t\":60},\"barmode\":\"relative\"},                        {\"responsive\": true}                    ).then(function(){\n",
       "                            \n",
       "var gd = document.getElementById('54a7dd52-a2a9-4464-bc4c-88af252c53ac');\n",
       "var x = new MutationObserver(function (mutations, observer) {{\n",
       "        var display = window.getComputedStyle(gd).display;\n",
       "        if (!display || display === 'none') {{\n",
       "            console.log([gd, 'removed!']);\n",
       "            Plotly.purge(gd);\n",
       "            observer.disconnect();\n",
       "        }}\n",
       "}});\n",
       "\n",
       "// Listen for the removal of the full notebook cells\n",
       "var notebookContainer = gd.closest('#notebook-container');\n",
       "if (notebookContainer) {{\n",
       "    x.observe(notebookContainer, {childList: true});\n",
       "}}\n",
       "\n",
       "// Listen for the clearing of the current output cell\n",
       "var outputEl = gd.closest('.output');\n",
       "if (outputEl) {{\n",
       "    x.observe(outputEl, {childList: true});\n",
       "}}\n",
       "\n",
       "                        })                };                });            </script>        </div>"
      ]
     },
     "metadata": {},
     "output_type": "display_data"
    }
   ],
   "source": [
    "import tabula\n",
    "import pandas as pd\n",
    "import plotly.express as px\n",
    "\n",
    "df= tabula.io.read_pdf(r\"C:\\Users\\paula\\OneDrive\\Documentos\\Estágio\\DOE\\Python\\alarmes 2.pdf\", pages=\"1-400\")\n",
    "df1= tabula.io.read_pdf(r\"C:\\Users\\paula\\OneDrive\\Documentos\\Estágio\\DOE\\Python\\alarmes 2.pdf\", pages=\"401-801\")\n",
    "df2=tabula.io.read_pdf(r\"C:\\Users\\paula\\OneDrive\\Documentos\\Estágio\\DOE\\Python\\alarmes 2.pdf\", pages=\"802-1202\")\n",
    "df3=tabula.io.read_pdf(r\"C:\\Users\\paula\\OneDrive\\Documentos\\Estágio\\DOE\\Python\\alarmes 2.pdf\", pages=\"1203-1800\")\n",
    "tabelas=[]\n",
    "for tabela in df:\n",
    "    tabela.columns = tabela.iloc[1]\n",
    "    tabelas.append(tabela)\n",
    "for tabela1 in df1:\n",
    "    tabela1.columns = tabela1.iloc[1]\n",
    "    tabelas.append(tabela1)\n",
    "for tabela2 in df2:\n",
    "    tabela2.columns = tabela2.iloc[1]\n",
    "    tabelas.append(tabela2)    \n",
    "for tabela3 in df3:\n",
    "    tabela3.columns = tabela3.iloc[1]\n",
    "    tabelas.append(tabela3)        \n",
    "    \n",
    "df=pd.concat(tabelas, ignore_index=True)\n",
    "df=df.drop(\"Usuário\", axis=1)\n",
    "df=df.drop(\"Computador\", axis=1)\n",
    "df=df.drop(\"Status\", axis=1)\n",
    "df=df[df['Descrição'].notna()]\n",
    "qtd=df[df[\"Descrição\"]!=\"Auditoria de Segurança\"]\n",
    "qtd_final=qtd[qtd[\"Descrição\"]!=\"Descrição\"]\n",
    "qtd_final=qtd_final[qtd_final[\"Descrição\"]!=\"Produto\"]\n",
    "qtd_final=qtd_final[qtd_final[\"Descrição\"]!=\"de Produto\"]\n",
    "qtd_final=qtd_final[qtd_final[\"Descrição\"]!=\"Cartucho\"]\n",
    "qtd_final=qtd_final[qtd_final[\"Descrição\"]!=\"authentication failed.\"]  \n",
    "qtd_final=qtd_final[qtd_final[\"Descrição\"]!=\"Login failure of user [manut] on directory [Local].  User\"]\n",
    "qtd_final=qtd_final[qtd_final[\"Descrição\"]!=\"Login failure of user [manut] on directory [Local].  The user\"]\n",
    "qtd_final=qtd_final[qtd_final[\"Descrição\"]!=\"account is locked.\"]\n",
    "qtd_final=qtd_final[qtd_final[\"Descrição\"]!=\"Login failure of user [333333] on directory [Local].  User\"]\n",
    "qtd_final=qtd_final[qtd_final[\"Descrição\"]!=\"Login failure of user [manutencao] on directory [Local].\"]\n",
    "qtd_final=qtd_final[qtd_final[\"Descrição\"]!=\"Login failure of user [mnut] on directory [Local].  User\"]\n",
    "qtd_final=qtd_final[qtd_final[\"Descrição\"]!=\"Login failure of user [manu] on directory [Local].  User\"]\n",
    "qtd_final=qtd_final[qtd_final[\"Descrição\"]!=\"Login failure of user [666666] on directory [Local].  User\"]\n",
    "qtd_final=qtd_final[qtd_final[\"Descrição\"]!=\"Login failure of user [maut] on directory [Local].  User\"]\n",
    "qtd_final=qtd_final[qtd_final[\"Descrição\"]!=\"Login failure of user [aju] on directory [Local].  User\"]\n",
    "qtd_final=qtd_final[qtd_final[\"Descrição\"]!=\"Login failure of user [mant] on directory [Local].  User\"]\n",
    "qtd_final=qtd_final[qtd_final[\"Descrição\"]!=\"Login failure of user [IHM_FABRIMA\\LLUIZ] on directory\"]\n",
    "qtd_final=qtd_final[qtd_final[\"Descrição\"]!=\"[Local].  The password for the account has expired.\"]\n",
    "qtd_final=qtd_final[qtd_final[\"Descrição\"]!=\"User authentication failed.\"]\n",
    "\n",
    "print(qtd_final[\"Descrição\"].value_counts())\n",
    "\n",
    "df= qtd_final[\"Descrição\"].value_counts().rename_axis('Erros').reset_index(name='Valores')\n",
    "\n",
    "df = df.sort_values(by=\"Valores\",ascending=False)\n",
    "df[\"Porcentagem\"] = df[\"Valores\"]/df[\"Valores\"].sum() * 100\n",
    "df[\"CumPorcentual\"] = df[\"Porcentagem\"].cumsum()\n",
    "display(df)\n",
    "print(qtd_final[\"Descrição\"].count())\n",
    "\n",
    "print(qtd_final[\"Descrição\"].nunique())\n",
    "\n",
    "display(qtd_final)\n",
    "\n",
    "grafico = px.bar(df, x=\"Erros\",y=\"Valores\")\n",
    "grafico.show()"
   ]
  },
  {
   "cell_type": "code",
   "execution_count": 8,
   "id": "8313f26c",
   "metadata": {
    "scrolled": true
   },
   "outputs": [],
   "source": []
  },
  {
   "cell_type": "code",
   "execution_count": 7,
   "id": "25aeebcc",
   "metadata": {},
   "outputs": [
    {
     "ename": "AttributeError",
     "evalue": "'list' object has no attribute 'iloc'",
     "output_type": "error",
     "traceback": [
      "\u001b[1;31m---------------------------------------------------------------------------\u001b[0m",
      "\u001b[1;31mAttributeError\u001b[0m                            Traceback (most recent call last)",
      "\u001b[1;32m~\\AppData\\Local\\Temp/ipykernel_4916/1286505500.py\u001b[0m in \u001b[0;36m<module>\u001b[1;34m\u001b[0m\n\u001b[0;32m      8\u001b[0m \u001b[1;32mfor\u001b[0m \u001b[0mpagina\u001b[0m \u001b[1;32min\u001b[0m \u001b[0mpaginas\u001b[0m\u001b[1;33m:\u001b[0m\u001b[1;33m\u001b[0m\u001b[1;33m\u001b[0m\u001b[0m\n\u001b[0;32m      9\u001b[0m     \u001b[0mdf\u001b[0m\u001b[1;33m=\u001b[0m \u001b[0mtabula\u001b[0m\u001b[1;33m.\u001b[0m\u001b[0mio\u001b[0m\u001b[1;33m.\u001b[0m\u001b[0mread_pdf\u001b[0m\u001b[1;33m(\u001b[0m\u001b[1;34mr\"C:\\Users\\mariaa\\Documents\\Bulas\\alarmes 2.pdf\"\u001b[0m\u001b[1;33m,\u001b[0m \u001b[0mpages\u001b[0m\u001b[1;33m=\u001b[0m\u001b[0mpagina\u001b[0m\u001b[1;33m)\u001b[0m\u001b[1;33m\u001b[0m\u001b[1;33m\u001b[0m\u001b[0m\n\u001b[1;32m---> 10\u001b[1;33m     \u001b[0mdf\u001b[0m\u001b[1;33m.\u001b[0m\u001b[0mcolumns\u001b[0m \u001b[1;33m=\u001b[0m \u001b[0mdf\u001b[0m\u001b[1;33m.\u001b[0m\u001b[0miloc\u001b[0m\u001b[1;33m[\u001b[0m\u001b[1;36m1\u001b[0m\u001b[1;33m]\u001b[0m\u001b[1;33m\u001b[0m\u001b[1;33m\u001b[0m\u001b[0m\n\u001b[0m\u001b[0;32m     11\u001b[0m     \u001b[0mtabela\u001b[0m\u001b[1;33m.\u001b[0m\u001b[0mappend\u001b[0m\u001b[1;33m(\u001b[0m\u001b[0mdf\u001b[0m\u001b[1;33m)\u001b[0m\u001b[1;33m\u001b[0m\u001b[1;33m\u001b[0m\u001b[0m\n\u001b[0;32m     12\u001b[0m \u001b[1;33m\u001b[0m\u001b[0m\n",
      "\u001b[1;31mAttributeError\u001b[0m: 'list' object has no attribute 'iloc'"
     ]
    }
   ],
   "source": []
  },
  {
   "cell_type": "code",
   "execution_count": 3,
   "id": "81909456",
   "metadata": {},
   "outputs": [
    {
     "ename": "AttributeError",
     "evalue": "module 'tabula' has no attribute 'read_pdf'",
     "output_type": "error",
     "traceback": [
      "\u001b[1;31m---------------------------------------------------------------------------\u001b[0m",
      "\u001b[1;31mAttributeError\u001b[0m                            Traceback (most recent call last)",
      "\u001b[1;32m~\\AppData\\Local\\Temp/ipykernel_2196/4216447262.py\u001b[0m in \u001b[0;36m<module>\u001b[1;34m\u001b[0m\n\u001b[0;32m      2\u001b[0m \u001b[1;32mimport\u001b[0m \u001b[0mpandas\u001b[0m \u001b[1;32mas\u001b[0m \u001b[0mpd\u001b[0m\u001b[1;33m\u001b[0m\u001b[1;33m\u001b[0m\u001b[0m\n\u001b[0;32m      3\u001b[0m \u001b[1;33m\u001b[0m\u001b[0m\n\u001b[1;32m----> 4\u001b[1;33m \u001b[0mdf\u001b[0m\u001b[1;33m=\u001b[0m \u001b[0mtabula\u001b[0m\u001b[1;33m.\u001b[0m\u001b[0mread_pdf\u001b[0m\u001b[1;33m(\u001b[0m\u001b[1;34mr\"C:\\Users\\mariaa\\Documents\\DOE\\ALARMES.pdf\"\u001b[0m\u001b[1;33m,\u001b[0m \u001b[0mpages\u001b[0m\u001b[1;33m=\u001b[0m\u001b[0mrange\u001b[0m\u001b[1;33m(\u001b[0m\u001b[1;36m1870\u001b[0m\u001b[1;33m)\u001b[0m\u001b[1;33m)\u001b[0m\u001b[1;33m\u001b[0m\u001b[1;33m\u001b[0m\u001b[0m\n\u001b[0m",
      "\u001b[1;31mAttributeError\u001b[0m: module 'tabula' has no attribute 'read_pdf'"
     ]
    }
   ],
   "source": []
  },
  {
   "cell_type": "code",
   "execution_count": null,
   "id": "91058aaf",
   "metadata": {},
   "outputs": [],
   "source": []
  }
 ],
 "metadata": {
  "kernelspec": {
   "display_name": "Python 3 (ipykernel)",
   "language": "python",
   "name": "python3"
  },
  "language_info": {
   "codemirror_mode": {
    "name": "ipython",
    "version": 3
   },
   "file_extension": ".py",
   "mimetype": "text/x-python",
   "name": "python",
   "nbconvert_exporter": "python",
   "pygments_lexer": "ipython3",
   "version": "3.9.7"
  }
 },
 "nbformat": 4,
 "nbformat_minor": 5
}
